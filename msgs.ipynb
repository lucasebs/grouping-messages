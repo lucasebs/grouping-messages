{
 "cells": [
  {
   "cell_type": "code",
   "execution_count": 1,
   "metadata": {},
   "outputs": [],
   "source": [
    "import json\n",
    "from datetime import datetime, timedelta"
   ]
  },
  {
   "cell_type": "code",
   "execution_count": 2,
   "metadata": {},
   "outputs": [],
   "source": [
    "with open(\"U1ZQR43RB.json\", \"r\") as read_file:\n",
    "    data = json.load(read_file)"
   ]
  },
  {
   "cell_type": "code",
   "execution_count": 4,
   "metadata": {
    "scrolled": true
   },
   "outputs": [],
   "source": [
    "users = {}\n",
    "\n",
    "def dict_text_per_time(ts, message):\n",
    "    m = []\n",
    "    m.append(message)\n",
    "    aux_dict = {}\n",
    "    aux_dict[ts] = m\n",
    "    return aux_dict\n",
    "\n",
    "for i in range(len(data)):\n",
    "    if 'user' in data[i].keys():\n",
    "        ts = data[i]['ts']\n",
    "        message = data[i]['text']\n",
    "        user = data[i]['user']\n",
    "        if message != \"\":\n",
    "            if user not in users.keys():\n",
    "                users[user] = dict_text_per_time(ts,message)\n",
    "            else:\n",
    "                dt = datetime.fromtimestamp(int(float(ts)))\n",
    "                last_ts_str = list(users[user].keys())[-1]\n",
    "                last_ts_int = int(float(last_ts_str))\n",
    "                last_dt = datetime.fromtimestamp(last_ts_int)\n",
    "                if dt > (last_dt + timedelta(minutes=2)):                    \n",
    "                    users[user].update(dict_text_per_time(ts,message))\n",
    "                else:\n",
    "                    users[user][last_ts_str].append(message)\n",
    "                      \n",
    "for user in users.keys():\n",
    "    with open(\"outputs/\"+user+\".json\", \"w\") as write_file:\n",
    "        json.dump(users[user],write_file)"
   ]
  }
 ],
 "metadata": {
  "kernelspec": {
   "display_name": "Python 3",
   "language": "python",
   "name": "python3"
  },
  "language_info": {
   "codemirror_mode": {
    "name": "ipython",
    "version": 3
   },
   "file_extension": ".py",
   "mimetype": "text/x-python",
   "name": "python",
   "nbconvert_exporter": "python",
   "pygments_lexer": "ipython3",
   "version": "3.6.8"
  }
 },
 "nbformat": 4,
 "nbformat_minor": 2
}
